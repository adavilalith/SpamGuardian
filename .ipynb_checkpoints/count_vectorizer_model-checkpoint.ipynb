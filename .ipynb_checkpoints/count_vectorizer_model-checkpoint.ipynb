{
 "cells": [
  {
   "cell_type": "code",
   "execution_count": 4,
   "id": "da9e08ca-a066-4aac-84d6-e389abecae09",
   "metadata": {},
   "outputs": [
    {
     "ename": "ModuleNotFoundError",
     "evalue": "No module named 'sklearn'",
     "output_type": "error",
     "traceback": [
      "\u001b[1;31m---------------------------------------------------------------------------\u001b[0m",
      "\u001b[1;31mModuleNotFoundError\u001b[0m                       Traceback (most recent call last)",
      "Cell \u001b[1;32mIn[4], line 3\u001b[0m\n\u001b[0;32m      1\u001b[0m \u001b[38;5;28;01mimport\u001b[39;00m \u001b[38;5;21;01mpandas\u001b[39;00m \u001b[38;5;28;01mas\u001b[39;00m \u001b[38;5;21;01mpd\u001b[39;00m\n\u001b[0;32m      2\u001b[0m \u001b[38;5;28;01mimport\u001b[39;00m \u001b[38;5;21;01mnumpy\u001b[39;00m \u001b[38;5;28;01mas\u001b[39;00m \u001b[38;5;21;01mnp\u001b[39;00m\n\u001b[1;32m----> 3\u001b[0m \u001b[38;5;28;01mfrom\u001b[39;00m \u001b[38;5;21;01msklearn\u001b[39;00m\u001b[38;5;21;01m.\u001b[39;00m\u001b[38;5;21;01mmodel_selection\u001b[39;00m \u001b[38;5;28;01mimport\u001b[39;00m train_test_split\n\u001b[0;32m      4\u001b[0m \u001b[38;5;28;01mfrom\u001b[39;00m \u001b[38;5;21;01msklearn\u001b[39;00m\u001b[38;5;21;01m.\u001b[39;00m\u001b[38;5;21;01mfeature_extraction\u001b[39;00m\u001b[38;5;21;01m.\u001b[39;00m\u001b[38;5;21;01mtext\u001b[39;00m \u001b[38;5;28;01mimport\u001b[39;00m CountVectorizer\n\u001b[0;32m      5\u001b[0m \u001b[38;5;28;01mfrom\u001b[39;00m \u001b[38;5;21;01msklearn\u001b[39;00m\u001b[38;5;21;01m.\u001b[39;00m\u001b[38;5;21;01mnaive_bayes\u001b[39;00m \u001b[38;5;28;01mimport\u001b[39;00m MultinomialNB\n",
      "\u001b[1;31mModuleNotFoundError\u001b[0m: No module named 'sklearn'"
     ]
    }
   ],
   "source": [
    "import pandas as pd\n",
    "import numpy as np\n",
    "from sklearn.model_selection import train_test_split\n",
    "from sklearn.feature_extraction.text import CountVectorizer\n",
    "from sklearn.naive_bayes import MultinomialNB\n",
    "from sklearn.metrics import accuracy_score, confusion_matrix, classification_report, ConfusionMatrixDisplay"
   ]
  },
  {
   "cell_type": "code",
   "execution_count": null,
   "id": "fff64d02-18ee-44d6-a42c-d52ba64a21a0",
   "metadata": {},
   "outputs": [],
   "source": [
    "sms_df =  pd.read_csv('./datasets/sms_spamham.csv')\n",
    "email_df =  pd.read_csv('./datasets/email_spamham.csv')"
   ]
  },
  {
   "cell_type": "code",
   "execution_count": null,
   "id": "446039c6-b32f-47e4-90d9-393e07659c8c",
   "metadata": {},
   "outputs": [],
   "source": [
    "smsdf =  pd.read_csv('./datasets/sms_spamham.csv',encoding='latin1')\n",
    "smsdf = smsdf[['v1','v2']]\n",
    "smsdf['res'] = smsdf['v1'].map({'ham':0,'spam':1})\n",
    "smsdf = smsdf.rename(columns={'v1':'spamham','v2':'text','res':'res'})\n",
    "smsdf.head()"
   ]
  },
  {
   "cell_type": "code",
   "execution_count": null,
   "id": "24c86787-a19d-49e6-b17b-b70ff19588d8",
   "metadata": {},
   "outputs": [],
   "source": [
    "smsdf =  pd.read_csv('./datasets/sms_spamham.csv',encoding='latin1')\n",
    "smsdf = smsdf[['v1','v2']]\n",
    "smsdf['res'] = smsdf['v1'].map({'ham':0,'spam':1})\n",
    "smsdf = smsdf.rename(columns={'v1':'spamham','v2':'text','res':'res'})\n",
    "smsdf.head()"
   ]
  }
 ],
 "metadata": {
  "kernelspec": {
   "display_name": "Python 3 (ipykernel)",
   "language": "python",
   "name": "python3"
  },
  "language_info": {
   "codemirror_mode": {
    "name": "ipython",
    "version": 3
   },
   "file_extension": ".py",
   "mimetype": "text/x-python",
   "name": "python",
   "nbconvert_exporter": "python",
   "pygments_lexer": "ipython3",
   "version": "3.10.11"
  }
 },
 "nbformat": 4,
 "nbformat_minor": 5
}
